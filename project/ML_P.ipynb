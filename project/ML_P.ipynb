{
 "cells": [
  {
   "cell_type": "code",
   "execution_count": 1,
   "metadata": {},
   "outputs": [],
   "source": [
    "import pandas as pd\n",
    "import numpy as np\n",
    "import torch\n",
    "import torch.nn as nn\n",
    "from torch.utils.data import Dataset, DataLoader, random_split\n",
    "import torch.nn.functional as F\n",
    "import matplotlib.pyplot as plt\n",
    "from torchmetrics import Accuracy\n",
    "from tqdm import tqdm\n",
    "import math\n",
    "\n",
    "# Load data\n",
    "df = pd.read_csv(\"p1_emg.csv\")  # Replace with actual filename\n"
   ]
  },
  {
   "cell_type": "code",
   "execution_count": 2,
   "metadata": {},
   "outputs": [],
   "source": [
    "# Label mapping (excluding 'rest')\n",
    "mapg = {\n",
    "    \"Thumb Extension\":0,\"index Extension\":1,\"Middle Extension\":2,\"Ring Extension\":3,\n",
    "    \"Pinky Extension\":4,\"Thumbs Up\":5,\"Right Angle\":6,\"Peace\":7,\"OK\":8,\"Horn\":9,\"Hang Loose\":10,\n",
    "    \"Power Grip\":11,\"Hand Open\":12,\"Wrist Extension\":13,\"Wrist Flexion\":14,\n",
    "    \"Ulnar deviation\":15,\"Radial Deviation\":16\n",
    "}\n",
    "\n",
    "df = df[df['label'] != 'rest']\n",
    "df['label'] = df['label'].map(mapg)\n",
    "\n",
    "# Normalize EMG features\n",
    "features = [col for col in df.columns if 'emg' in col]\n",
    "# Min-Max Scaling to [0, 1]\n",
    "min_vals = df[features].min()\n",
    "max_vals = df[features].max()\n",
    "df[features] = (df[features] - min_vals) / (max_vals - min_vals + 1e-8)\n",
    "\n",
    "\n",
    "# Parameters\n",
    "window_size = 100  # adjust based on your data\n",
    "features = [col for col in df.columns if 'emg' in col]\n",
    "\n",
    "# Create clean, non-overlapping windows with consistent labels\n",
    "X = []\n",
    "y = []\n",
    "\n",
    "for i in range(0, len(df) - window_size + 1, window_size):\n",
    "    window = df.iloc[i:i+window_size]\n",
    "    label_set = window['label'].unique()\n",
    "    if len(label_set) == 1:  # Only keep windows with a single label\n",
    "        X.append(window[features].values.astype(np.float32))\n",
    "        y.append(label_set[0])\n",
    "\n",
    "X = np.array(X)\n",
    "y = np.array(y)\n",
    "\n",
    "# Dataset\n",
    "class EMGDataset(Dataset):\n",
    "    def __init__(self, X, y):\n",
    "        self.X = torch.tensor(X)  # shape: (N, window, channels)\n",
    "        self.y = torch.tensor(y, dtype=torch.long)\n",
    "\n",
    "    def __len__(self):\n",
    "        return len(self.X)\n",
    "\n",
    "    def __getitem__(self, idx):\n",
    "        return self.X[idx].permute(1, 0), self.y[idx]  # shape: (channels, window)\n",
    "\n",
    "dataset = EMGDataset(X, y)"
   ]
  },
  {
   "cell_type": "code",
   "execution_count": 3,
   "metadata": {},
   "outputs": [
    {
     "data": {
      "text/plain": [
       "2916"
      ]
     },
     "execution_count": 3,
     "metadata": {},
     "output_type": "execute_result"
    }
   ],
   "source": [
    "len(dataset)"
   ]
  },
  {
   "cell_type": "code",
   "execution_count": 4,
   "metadata": {},
   "outputs": [],
   "source": [
    "# Split data\n",
    "train_size = int(0.8 * len(dataset))\n",
    "val_size = len(dataset) - train_size\n",
    "train_dataset, val_dataset = random_split(dataset, [train_size, val_size])\n",
    "\n",
    "train_loader = DataLoader(train_dataset, batch_size=32, shuffle=True)\n",
    "val_loader = DataLoader(val_dataset, batch_size=32)"
   ]
  },
  {
   "cell_type": "code",
   "execution_count": 5,
   "metadata": {},
   "outputs": [],
   "source": [
    "\n",
    "class EMGCNN(nn.Module):\n",
    "    def __init__(self, num_classes=17, num_channels=8):\n",
    "        super(EMGCNN, self).__init__()\n",
    "        self.conv1 = nn.Conv1d(num_channels, 64, kernel_size=3, padding=1)\n",
    "        self.bn1 = nn.BatchNorm1d(64)\n",
    "        \n",
    "        self.conv2 = nn.Conv1d(64, 128, kernel_size=3, padding=1)\n",
    "        self.bn2 = nn.BatchNorm1d(128)\n",
    "        \n",
    "        self.conv3 = nn.Conv1d(128, 256, kernel_size=3, padding=1)\n",
    "        self.bn3 = nn.BatchNorm1d(256)\n",
    "\n",
    "        self.pool = nn.MaxPool1d(kernel_size=2)\n",
    "        \n",
    "        # Calculate output size after convolutions and pooling\n",
    "        conv_output_size = window_size\n",
    "        for _ in range(3):  # 3 conv + pool layers\n",
    "            conv_output_size = conv_output_size // 2  # MaxPool1d halves it\n",
    "\n",
    "        self.fc1 = nn.Linear(256 * conv_output_size, 128)\n",
    "        self.dropout = nn.Dropout(0.3)\n",
    "        self.fc2 = nn.Linear(128, num_classes)\n",
    "\n",
    "    def forward(self, x):\n",
    "        x = self.pool(F.relu(self.bn1(self.conv1(x))))  # -> (B, 64, L/2)\n",
    "        x = self.pool(F.relu(self.bn2(self.conv2(x))))  # -> (B, 128, L/4)\n",
    "        x = self.pool(F.relu(self.bn3(self.conv3(x))))  # -> (B, 256, L/8)\n",
    "\n",
    "        x = x.view(x.size(0), -1)\n",
    "        x = F.relu(self.fc1(x))\n",
    "        x = self.dropout(x)\n",
    "        x = self.fc2(x)\n",
    "        return x\n",
    "    \n"
   ]
  },
  {
   "cell_type": "code",
   "execution_count": 6,
   "metadata": {},
   "outputs": [],
   "source": [
    "class DeepEMGCNN(nn.Module):\n",
    "    def __init__(self, num_classes=17, num_channels=8, window_size=256):\n",
    "        super(DeepEMGCNN, self).__init__()\n",
    "\n",
    "        def conv_block(in_channels, out_channels):\n",
    "            return nn.Sequential(\n",
    "                nn.Conv1d(in_channels, out_channels, kernel_size=3, padding=1),\n",
    "                nn.BatchNorm1d(out_channels),\n",
    "                nn.ReLU(),\n",
    "                nn.Conv1d(out_channels, out_channels, kernel_size=3, padding=1),\n",
    "                nn.BatchNorm1d(out_channels),\n",
    "                nn.ReLU(),\n",
    "                nn.MaxPool1d(kernel_size=2)\n",
    "            )\n",
    "\n",
    "        self.layer1 = conv_block(num_channels, 64)\n",
    "        self.layer2 = conv_block(64, 128)\n",
    "        self.layer3 = conv_block(128, 256)\n",
    "        self.layer4 = conv_block(256, 512)\n",
    "\n",
    "        # Compute final flattened size\n",
    "        conv_output_size = window_size\n",
    "        for _ in range(4):\n",
    "            conv_output_size //= 2  # MaxPool1d halves the length\n",
    "\n",
    "        self.fc1 = nn.Linear(3072, 256)\n",
    "        self.dropout1 = nn.Dropout(0.4)\n",
    "        self.fc2 = nn.Linear(256, 128)\n",
    "        self.dropout2 = nn.Dropout(0.3)\n",
    "        self.fc3 = nn.Linear(128, num_classes)\n",
    "\n",
    "    def forward(self, x):\n",
    "        x = self.layer1(x)  # (B, 64, L/2)\n",
    "        x = self.layer2(x)  # (B, 128, L/4)\n",
    "        x = self.layer3(x)  # (B, 256, L/8)\n",
    "        x = self.layer4(x)  # (B, 512, L/16)\n",
    "\n",
    "        x = x.view(x.size(0), -1)\n",
    "        x = F.relu(self.fc1(x))\n",
    "        x = self.dropout1(x)\n",
    "        x = F.relu(self.fc2(x))\n",
    "        x = self.dropout2(x)\n",
    "        x = self.fc3(x)\n",
    "        return x"
   ]
  },
  {
   "cell_type": "code",
   "execution_count": 7,
   "metadata": {},
   "outputs": [],
   "source": [
    "# Train setup\n",
    "device = torch.device(\"cuda\" if torch.cuda.is_available() else \"cpu\")\n",
    "model = EMGCNN(num_classes=len(mapg)).to(device)\n",
    "criterion = nn.CrossEntropyLoss()\n"
   ]
  },
  {
   "cell_type": "code",
   "execution_count": 8,
   "metadata": {},
   "outputs": [
    {
     "data": {
      "text/plain": [
       "17"
      ]
     },
     "execution_count": 8,
     "metadata": {},
     "output_type": "execute_result"
    }
   ],
   "source": [
    "len(mapg)"
   ]
  },
  {
   "cell_type": "code",
   "execution_count": 9,
   "metadata": {},
   "outputs": [],
   "source": [
    "class AverageMeter(object):\n",
    "    \"\"\"Computes and stores the average and current value\"\"\"\n",
    "    def __init__(self):\n",
    "        self.reset()\n",
    "\n",
    "    def reset(self):\n",
    "        self.val = 0\n",
    "        self.avg = 0\n",
    "        self.sum = 0\n",
    "        self.count = 0\n",
    "\n",
    "    def update(self, val, n=1):\n",
    "        self.val = val\n",
    "        self.sum += val * n\n",
    "        self.count += n\n",
    "        self.avg = self.sum / self.count"
   ]
  },
  {
   "cell_type": "code",
   "execution_count": 10,
   "metadata": {},
   "outputs": [],
   "source": [
    "def train_one_epoch(model, train_loader, loss_fn, optimizer, epoch=None):\n",
    "  model.train()\n",
    "  loss_train = AverageMeter()\n",
    "  acc_train = Accuracy(task='multiclass', num_classes=17).to(device)\n",
    "  with tqdm(train_loader, unit=\"batch\") as tepoch:\n",
    "    for inputs, targets in tepoch:\n",
    "      if epoch is not None:\n",
    "        tepoch.set_description(f\"Epoch {epoch}\")\n",
    "      inputs = inputs.to(device)\n",
    "      targets = targets.to(device)\n",
    "\n",
    "      outputs = model(inputs)\n",
    "      \n",
    "      loss = loss_fn(outputs, targets)\n",
    "\n",
    "      loss.backward()\n",
    "      optimizer.step()\n",
    "      optimizer.zero_grad()\n",
    "\n",
    "      loss_train.update(loss.item())\n",
    "      acc_train(torch.argmax(outputs, dim=1), targets.int())\n",
    "      tepoch.set_postfix(loss=loss_train.avg, \n",
    "                         accuracy=100.*acc_train.compute().item())\n",
    "  return model, loss_train.avg, acc_train.compute().item()"
   ]
  },
  {
   "cell_type": "code",
   "execution_count": 11,
   "metadata": {},
   "outputs": [],
   "source": [
    "def validation(model, test_loader, loss_fn):\n",
    "  model.eval()\n",
    "  with torch.no_grad():\n",
    "    loss_valid = AverageMeter()\n",
    "    acc_valid = Accuracy(task='multiclass', num_classes=17).to(device)\n",
    "    for i, (inputs, targets) in enumerate(test_loader):\n",
    "      inputs = inputs.to(device)\n",
    "      targets = targets.to(device)\n",
    "\n",
    "      outputs = model(inputs)\n",
    "      loss = loss_fn(outputs, targets)\n",
    "      \n",
    "      loss_valid.update(loss.item())\n",
    "      acc_valid(torch.argmax(outputs, dim=1), targets.int())\n",
    "  return loss_valid.avg, acc_valid.compute().item()"
   ]
  },
  {
   "cell_type": "code",
   "execution_count": 12,
   "metadata": {},
   "outputs": [],
   "source": [
    "loss_train_hist = []\n",
    "loss_valid_hist = []\n",
    "\n",
    "acc_train_hist = []\n",
    "acc_valid_hist = []\n",
    "\n",
    "best_loss_valid = torch.inf\n",
    "epoch_counter = 0"
   ]
  },
  {
   "cell_type": "code",
   "execution_count": 13,
   "metadata": {},
   "outputs": [],
   "source": [
    "optimizer = torch.optim.SGD(model.parameters(), lr=0.001)"
   ]
  },
  {
   "cell_type": "code",
   "execution_count": 16,
   "metadata": {},
   "outputs": [
    {
     "name": "stderr",
     "output_type": "stream",
     "text": [
      "Epoch 0: 100%|██████████| 73/73 [00:00<00:00, 116.53batch/s, accuracy=90.6, loss=0.395]\n"
     ]
    },
    {
     "name": "stdout",
     "output_type": "stream",
     "text": [
      "Valid: Loss = 1.686, Acc = 0.5325\n",
      "\n"
     ]
    },
    {
     "name": "stderr",
     "output_type": "stream",
     "text": [
      "Epoch 1: 100%|██████████| 73/73 [00:00<00:00, 166.63batch/s, accuracy=91, loss=0.393]  \n"
     ]
    },
    {
     "name": "stdout",
     "output_type": "stream",
     "text": [
      "Valid: Loss = 1.479, Acc = 0.5753\n",
      "\n"
     ]
    },
    {
     "name": "stderr",
     "output_type": "stream",
     "text": [
      "Epoch 2: 100%|██████████| 73/73 [00:00<00:00, 163.72batch/s, accuracy=90.8, loss=0.39] \n"
     ]
    },
    {
     "name": "stdout",
     "output_type": "stream",
     "text": [
      "Valid: Loss = 1.589, Acc = 0.5462\n",
      "\n"
     ]
    },
    {
     "name": "stderr",
     "output_type": "stream",
     "text": [
      "Epoch 3: 100%|██████████| 73/73 [00:00<00:00, 164.92batch/s, accuracy=91.3, loss=0.394]\n"
     ]
    },
    {
     "name": "stdout",
     "output_type": "stream",
     "text": [
      "Valid: Loss = 1.462, Acc = 0.5685\n",
      "\n"
     ]
    },
    {
     "name": "stderr",
     "output_type": "stream",
     "text": [
      "Epoch 4: 100%|██████████| 73/73 [00:00<00:00, 156.00batch/s, accuracy=90.5, loss=0.405]\n"
     ]
    },
    {
     "name": "stdout",
     "output_type": "stream",
     "text": [
      "Valid: Loss = 1.307, Acc = 0.6147\n",
      "\n"
     ]
    },
    {
     "name": "stderr",
     "output_type": "stream",
     "text": [
      "Epoch 5: 100%|██████████| 73/73 [00:00<00:00, 162.26batch/s, accuracy=91.2, loss=0.378]\n"
     ]
    },
    {
     "name": "stdout",
     "output_type": "stream",
     "text": [
      "Valid: Loss = 1.126, Acc = 0.649\n",
      "\n"
     ]
    },
    {
     "name": "stderr",
     "output_type": "stream",
     "text": [
      "Epoch 6: 100%|██████████| 73/73 [00:00<00:00, 157.02batch/s, accuracy=90.6, loss=0.391]\n"
     ]
    },
    {
     "name": "stdout",
     "output_type": "stream",
     "text": [
      "Valid: Loss = 1.38, Acc = 0.5651\n",
      "\n"
     ]
    },
    {
     "name": "stderr",
     "output_type": "stream",
     "text": [
      "Epoch 7: 100%|██████████| 73/73 [00:00<00:00, 159.51batch/s, accuracy=91, loss=0.383]  \n"
     ]
    },
    {
     "name": "stdout",
     "output_type": "stream",
     "text": [
      "Valid: Loss = 1.247, Acc = 0.6182\n",
      "\n"
     ]
    },
    {
     "name": "stderr",
     "output_type": "stream",
     "text": [
      "Epoch 8: 100%|██████████| 73/73 [00:00<00:00, 160.56batch/s, accuracy=91.3, loss=0.375]\n"
     ]
    },
    {
     "name": "stdout",
     "output_type": "stream",
     "text": [
      "Valid: Loss = 1.146, Acc = 0.649\n",
      "\n"
     ]
    },
    {
     "name": "stderr",
     "output_type": "stream",
     "text": [
      "Epoch 9: 100%|██████████| 73/73 [00:00<00:00, 158.47batch/s, accuracy=91.2, loss=0.377]\n"
     ]
    },
    {
     "name": "stdout",
     "output_type": "stream",
     "text": [
      "Valid: Loss = 1.179, Acc = 0.6627\n",
      "\n"
     ]
    },
    {
     "name": "stderr",
     "output_type": "stream",
     "text": [
      "Epoch 10: 100%|██████████| 73/73 [00:00<00:00, 158.03batch/s, accuracy=92.2, loss=0.367]\n"
     ]
    },
    {
     "name": "stdout",
     "output_type": "stream",
     "text": [
      "Valid: Loss = 1.249, Acc = 0.6079\n",
      "\n"
     ]
    },
    {
     "name": "stderr",
     "output_type": "stream",
     "text": [
      "Epoch 11: 100%|██████████| 73/73 [00:00<00:00, 155.49batch/s, accuracy=91.4, loss=0.381]\n"
     ]
    },
    {
     "name": "stdout",
     "output_type": "stream",
     "text": [
      "Valid: Loss = 1.741, Acc = 0.5068\n",
      "\n"
     ]
    },
    {
     "name": "stderr",
     "output_type": "stream",
     "text": [
      "Epoch 12: 100%|██████████| 73/73 [00:00<00:00, 161.04batch/s, accuracy=91.8, loss=0.364]\n"
     ]
    },
    {
     "name": "stdout",
     "output_type": "stream",
     "text": [
      "Valid: Loss = 1.509, Acc = 0.5736\n",
      "\n"
     ]
    },
    {
     "name": "stderr",
     "output_type": "stream",
     "text": [
      "Epoch 13: 100%|██████████| 73/73 [00:00<00:00, 164.68batch/s, accuracy=91.4, loss=0.372]\n"
     ]
    },
    {
     "name": "stdout",
     "output_type": "stream",
     "text": [
      "Valid: Loss = 1.49, Acc = 0.5753\n",
      "\n"
     ]
    },
    {
     "name": "stderr",
     "output_type": "stream",
     "text": [
      "Epoch 14: 100%|██████████| 73/73 [00:00<00:00, 165.54batch/s, accuracy=91.9, loss=0.356]\n"
     ]
    },
    {
     "name": "stdout",
     "output_type": "stream",
     "text": [
      "Valid: Loss = 1.272, Acc = 0.6438\n",
      "\n"
     ]
    },
    {
     "name": "stderr",
     "output_type": "stream",
     "text": [
      "Epoch 15: 100%|██████████| 73/73 [00:00<00:00, 168.87batch/s, accuracy=92.4, loss=0.344]\n"
     ]
    },
    {
     "name": "stdout",
     "output_type": "stream",
     "text": [
      "Valid: Loss = 2.345, Acc = 0.4435\n",
      "\n"
     ]
    },
    {
     "name": "stderr",
     "output_type": "stream",
     "text": [
      "Epoch 16: 100%|██████████| 73/73 [00:00<00:00, 163.63batch/s, accuracy=92.8, loss=0.342]\n"
     ]
    },
    {
     "name": "stdout",
     "output_type": "stream",
     "text": [
      "Valid: Loss = 1.383, Acc = 0.5873\n",
      "\n"
     ]
    },
    {
     "name": "stderr",
     "output_type": "stream",
     "text": [
      "Epoch 17: 100%|██████████| 73/73 [00:00<00:00, 165.38batch/s, accuracy=92.3, loss=0.351]\n"
     ]
    },
    {
     "name": "stdout",
     "output_type": "stream",
     "text": [
      "Valid: Loss = 1.743, Acc = 0.4983\n",
      "\n"
     ]
    },
    {
     "name": "stderr",
     "output_type": "stream",
     "text": [
      "Epoch 18: 100%|██████████| 73/73 [00:00<00:00, 166.48batch/s, accuracy=91.6, loss=0.364]\n"
     ]
    },
    {
     "name": "stdout",
     "output_type": "stream",
     "text": [
      "Valid: Loss = 1.124, Acc = 0.6644\n",
      "\n"
     ]
    },
    {
     "name": "stderr",
     "output_type": "stream",
     "text": [
      "Epoch 19: 100%|██████████| 73/73 [00:00<00:00, 160.08batch/s, accuracy=92.2, loss=0.334]\n"
     ]
    },
    {
     "name": "stdout",
     "output_type": "stream",
     "text": [
      "Valid: Loss = 1.406, Acc = 0.589\n",
      "\n"
     ]
    },
    {
     "name": "stderr",
     "output_type": "stream",
     "text": [
      "Epoch 20: 100%|██████████| 73/73 [00:00<00:00, 160.98batch/s, accuracy=91.4, loss=0.352]\n"
     ]
    },
    {
     "name": "stdout",
     "output_type": "stream",
     "text": [
      "Valid: Loss = 2.194, Acc = 0.4401\n",
      "\n"
     ]
    },
    {
     "name": "stderr",
     "output_type": "stream",
     "text": [
      "Epoch 21: 100%|██████████| 73/73 [00:00<00:00, 162.57batch/s, accuracy=92.5, loss=0.339]\n"
     ]
    },
    {
     "name": "stdout",
     "output_type": "stream",
     "text": [
      "Valid: Loss = 1.409, Acc = 0.613\n",
      "\n"
     ]
    },
    {
     "name": "stderr",
     "output_type": "stream",
     "text": [
      "Epoch 22: 100%|██████████| 73/73 [00:00<00:00, 164.14batch/s, accuracy=92.5, loss=0.344]\n"
     ]
    },
    {
     "name": "stdout",
     "output_type": "stream",
     "text": [
      "Valid: Loss = 1.756, Acc = 0.5257\n",
      "\n"
     ]
    },
    {
     "name": "stderr",
     "output_type": "stream",
     "text": [
      "Epoch 23: 100%|██████████| 73/73 [00:00<00:00, 160.89batch/s, accuracy=92, loss=0.341]  \n"
     ]
    },
    {
     "name": "stdout",
     "output_type": "stream",
     "text": [
      "Valid: Loss = 1.586, Acc = 0.5959\n",
      "\n"
     ]
    },
    {
     "name": "stderr",
     "output_type": "stream",
     "text": [
      "Epoch 24: 100%|██████████| 73/73 [00:00<00:00, 161.95batch/s, accuracy=92.3, loss=0.344]\n"
     ]
    },
    {
     "name": "stdout",
     "output_type": "stream",
     "text": [
      "Valid: Loss = 1.662, Acc = 0.5548\n",
      "\n"
     ]
    },
    {
     "name": "stderr",
     "output_type": "stream",
     "text": [
      "Epoch 25: 100%|██████████| 73/73 [00:00<00:00, 160.73batch/s, accuracy=92.8, loss=0.333]\n"
     ]
    },
    {
     "name": "stdout",
     "output_type": "stream",
     "text": [
      "Valid: Loss = 1.649, Acc = 0.5599\n",
      "\n"
     ]
    },
    {
     "name": "stderr",
     "output_type": "stream",
     "text": [
      "Epoch 26: 100%|██████████| 73/73 [00:00<00:00, 137.68batch/s, accuracy=92.8, loss=0.335]\n"
     ]
    },
    {
     "name": "stdout",
     "output_type": "stream",
     "text": [
      "Valid: Loss = 1.204, Acc = 0.637\n",
      "\n"
     ]
    },
    {
     "name": "stderr",
     "output_type": "stream",
     "text": [
      "Epoch 27: 100%|██████████| 73/73 [00:00<00:00, 138.89batch/s, accuracy=92.5, loss=0.341]\n"
     ]
    },
    {
     "name": "stdout",
     "output_type": "stream",
     "text": [
      "Valid: Loss = 2.024, Acc = 0.4983\n",
      "\n"
     ]
    },
    {
     "name": "stderr",
     "output_type": "stream",
     "text": [
      "Epoch 28: 100%|██████████| 73/73 [00:00<00:00, 140.97batch/s, accuracy=92.4, loss=0.334]\n"
     ]
    },
    {
     "name": "stdout",
     "output_type": "stream",
     "text": [
      "Valid: Loss = 1.904, Acc = 0.5\n",
      "\n"
     ]
    },
    {
     "name": "stderr",
     "output_type": "stream",
     "text": [
      "Epoch 29: 100%|██████████| 73/73 [00:00<00:00, 139.94batch/s, accuracy=92.3, loss=0.345]\n"
     ]
    },
    {
     "name": "stdout",
     "output_type": "stream",
     "text": [
      "Valid: Loss = 1.28, Acc = 0.6336\n",
      "\n"
     ]
    },
    {
     "name": "stderr",
     "output_type": "stream",
     "text": [
      "Epoch 30: 100%|██████████| 73/73 [00:00<00:00, 147.63batch/s, accuracy=92.5, loss=0.332]\n"
     ]
    },
    {
     "name": "stdout",
     "output_type": "stream",
     "text": [
      "Valid: Loss = 1.391, Acc = 0.6233\n",
      "\n"
     ]
    },
    {
     "name": "stderr",
     "output_type": "stream",
     "text": [
      "Epoch 31: 100%|██████████| 73/73 [00:00<00:00, 148.89batch/s, accuracy=93.2, loss=0.319]\n"
     ]
    },
    {
     "name": "stdout",
     "output_type": "stream",
     "text": [
      "Valid: Loss = 2.11, Acc = 0.4777\n",
      "\n"
     ]
    },
    {
     "name": "stderr",
     "output_type": "stream",
     "text": [
      "Epoch 32: 100%|██████████| 73/73 [00:00<00:00, 145.31batch/s, accuracy=92.7, loss=0.328]\n"
     ]
    },
    {
     "name": "stdout",
     "output_type": "stream",
     "text": [
      "Valid: Loss = 1.508, Acc = 0.5719\n",
      "\n"
     ]
    },
    {
     "name": "stderr",
     "output_type": "stream",
     "text": [
      "Epoch 33: 100%|██████████| 73/73 [00:00<00:00, 153.85batch/s, accuracy=92.4, loss=0.327]\n"
     ]
    },
    {
     "name": "stdout",
     "output_type": "stream",
     "text": [
      "Valid: Loss = 1.404, Acc = 0.6079\n",
      "\n"
     ]
    },
    {
     "name": "stderr",
     "output_type": "stream",
     "text": [
      "Epoch 34: 100%|██████████| 73/73 [00:00<00:00, 156.01batch/s, accuracy=93.5, loss=0.315]\n"
     ]
    },
    {
     "name": "stdout",
     "output_type": "stream",
     "text": [
      "Valid: Loss = 1.41, Acc = 0.6233\n",
      "\n"
     ]
    },
    {
     "name": "stderr",
     "output_type": "stream",
     "text": [
      "Epoch 35: 100%|██████████| 73/73 [00:00<00:00, 154.29batch/s, accuracy=93.9, loss=0.303]\n"
     ]
    },
    {
     "name": "stdout",
     "output_type": "stream",
     "text": [
      "Valid: Loss = 1.363, Acc = 0.5993\n",
      "\n"
     ]
    },
    {
     "name": "stderr",
     "output_type": "stream",
     "text": [
      "Epoch 36: 100%|██████████| 73/73 [00:00<00:00, 152.33batch/s, accuracy=92.9, loss=0.316]\n"
     ]
    },
    {
     "name": "stdout",
     "output_type": "stream",
     "text": [
      "Valid: Loss = 1.642, Acc = 0.5565\n",
      "\n"
     ]
    },
    {
     "name": "stderr",
     "output_type": "stream",
     "text": [
      "Epoch 37: 100%|██████████| 73/73 [00:00<00:00, 150.37batch/s, accuracy=93.4, loss=0.306]\n"
     ]
    },
    {
     "name": "stdout",
     "output_type": "stream",
     "text": [
      "Valid: Loss = 2.268, Acc = 0.4692\n",
      "\n"
     ]
    },
    {
     "name": "stderr",
     "output_type": "stream",
     "text": [
      "Epoch 38: 100%|██████████| 73/73 [00:00<00:00, 156.09batch/s, accuracy=93.9, loss=0.3]  \n"
     ]
    },
    {
     "name": "stdout",
     "output_type": "stream",
     "text": [
      "Valid: Loss = 2.083, Acc = 0.4709\n",
      "\n"
     ]
    },
    {
     "name": "stderr",
     "output_type": "stream",
     "text": [
      "Epoch 39: 100%|██████████| 73/73 [00:00<00:00, 160.00batch/s, accuracy=93.5, loss=0.3]  \n"
     ]
    },
    {
     "name": "stdout",
     "output_type": "stream",
     "text": [
      "Valid: Loss = 1.318, Acc = 0.6147\n",
      "\n"
     ]
    },
    {
     "name": "stderr",
     "output_type": "stream",
     "text": [
      "Epoch 40: 100%|██████████| 73/73 [00:00<00:00, 160.63batch/s, accuracy=93.6, loss=0.298]\n"
     ]
    },
    {
     "name": "stdout",
     "output_type": "stream",
     "text": [
      "Valid: Loss = 1.433, Acc = 0.601\n",
      "\n"
     ]
    },
    {
     "name": "stderr",
     "output_type": "stream",
     "text": [
      "Epoch 41: 100%|██████████| 73/73 [00:00<00:00, 160.94batch/s, accuracy=93.7, loss=0.294]\n"
     ]
    },
    {
     "name": "stdout",
     "output_type": "stream",
     "text": [
      "Valid: Loss = 1.461, Acc = 0.5736\n",
      "\n"
     ]
    },
    {
     "name": "stderr",
     "output_type": "stream",
     "text": [
      "Epoch 42: 100%|██████████| 73/73 [00:00<00:00, 162.01batch/s, accuracy=93.3, loss=0.298]\n"
     ]
    },
    {
     "name": "stdout",
     "output_type": "stream",
     "text": [
      "Valid: Loss = 1.876, Acc = 0.5291\n",
      "\n"
     ]
    },
    {
     "name": "stderr",
     "output_type": "stream",
     "text": [
      "Epoch 43: 100%|██████████| 73/73 [00:00<00:00, 160.79batch/s, accuracy=93.4, loss=0.306]\n"
     ]
    },
    {
     "name": "stdout",
     "output_type": "stream",
     "text": [
      "Valid: Loss = 3.33, Acc = 0.3973\n",
      "\n"
     ]
    },
    {
     "name": "stderr",
     "output_type": "stream",
     "text": [
      "Epoch 44: 100%|██████████| 73/73 [00:00<00:00, 161.51batch/s, accuracy=93.6, loss=0.292]\n"
     ]
    },
    {
     "name": "stdout",
     "output_type": "stream",
     "text": [
      "Valid: Loss = 1.34, Acc = 0.6164\n",
      "\n"
     ]
    },
    {
     "name": "stderr",
     "output_type": "stream",
     "text": [
      "Epoch 45: 100%|██████████| 73/73 [00:00<00:00, 161.97batch/s, accuracy=94.3, loss=0.287]\n"
     ]
    },
    {
     "name": "stdout",
     "output_type": "stream",
     "text": [
      "Valid: Loss = 1.503, Acc = 0.589\n",
      "\n"
     ]
    },
    {
     "name": "stderr",
     "output_type": "stream",
     "text": [
      "Epoch 46: 100%|██████████| 73/73 [00:00<00:00, 160.49batch/s, accuracy=94, loss=0.29]   \n"
     ]
    },
    {
     "name": "stdout",
     "output_type": "stream",
     "text": [
      "Valid: Loss = 1.305, Acc = 0.6267\n",
      "\n"
     ]
    },
    {
     "name": "stderr",
     "output_type": "stream",
     "text": [
      "Epoch 47: 100%|██████████| 73/73 [00:00<00:00, 156.81batch/s, accuracy=94, loss=0.292]  \n"
     ]
    },
    {
     "name": "stdout",
     "output_type": "stream",
     "text": [
      "Valid: Loss = 1.273, Acc = 0.6267\n",
      "\n"
     ]
    },
    {
     "name": "stderr",
     "output_type": "stream",
     "text": [
      "Epoch 48: 100%|██████████| 73/73 [00:00<00:00, 159.59batch/s, accuracy=94.2, loss=0.277]\n"
     ]
    },
    {
     "name": "stdout",
     "output_type": "stream",
     "text": [
      "Valid: Loss = 1.186, Acc = 0.649\n",
      "\n"
     ]
    },
    {
     "name": "stderr",
     "output_type": "stream",
     "text": [
      "Epoch 49: 100%|██████████| 73/73 [00:00<00:00, 154.48batch/s, accuracy=93.4, loss=0.281]\n"
     ]
    },
    {
     "name": "stdout",
     "output_type": "stream",
     "text": [
      "Valid: Loss = 1.944, Acc = 0.512\n",
      "\n"
     ]
    },
    {
     "name": "stderr",
     "output_type": "stream",
     "text": [
      "Epoch 50: 100%|██████████| 73/73 [00:00<00:00, 155.35batch/s, accuracy=94, loss=0.288]  \n"
     ]
    },
    {
     "name": "stdout",
     "output_type": "stream",
     "text": [
      "Valid: Loss = 1.362, Acc = 0.6353\n",
      "\n"
     ]
    },
    {
     "name": "stderr",
     "output_type": "stream",
     "text": [
      "Epoch 51: 100%|██████████| 73/73 [00:00<00:00, 158.23batch/s, accuracy=93.4, loss=0.29] \n"
     ]
    },
    {
     "name": "stdout",
     "output_type": "stream",
     "text": [
      "Valid: Loss = 1.567, Acc = 0.5822\n",
      "\n"
     ]
    },
    {
     "name": "stderr",
     "output_type": "stream",
     "text": [
      "Epoch 52: 100%|██████████| 73/73 [00:00<00:00, 148.87batch/s, accuracy=94.3, loss=0.274]\n"
     ]
    },
    {
     "name": "stdout",
     "output_type": "stream",
     "text": [
      "Valid: Loss = 1.246, Acc = 0.6404\n",
      "\n"
     ]
    },
    {
     "name": "stderr",
     "output_type": "stream",
     "text": [
      "Epoch 53: 100%|██████████| 73/73 [00:00<00:00, 153.41batch/s, accuracy=94.2, loss=0.276]\n"
     ]
    },
    {
     "name": "stdout",
     "output_type": "stream",
     "text": [
      "Valid: Loss = 1.897, Acc = 0.524\n",
      "\n"
     ]
    },
    {
     "name": "stderr",
     "output_type": "stream",
     "text": [
      "Epoch 54: 100%|██████████| 73/73 [00:00<00:00, 151.45batch/s, accuracy=94.3, loss=0.267]\n"
     ]
    },
    {
     "name": "stdout",
     "output_type": "stream",
     "text": [
      "Valid: Loss = 1.413, Acc = 0.5839\n",
      "\n"
     ]
    },
    {
     "name": "stderr",
     "output_type": "stream",
     "text": [
      "Epoch 55: 100%|██████████| 73/73 [00:00<00:00, 152.04batch/s, accuracy=94.5, loss=0.277]\n"
     ]
    },
    {
     "name": "stdout",
     "output_type": "stream",
     "text": [
      "Valid: Loss = 2.064, Acc = 0.4932\n",
      "\n"
     ]
    },
    {
     "name": "stderr",
     "output_type": "stream",
     "text": [
      "Epoch 56: 100%|██████████| 73/73 [00:00<00:00, 155.14batch/s, accuracy=94, loss=0.273]  \n"
     ]
    },
    {
     "name": "stdout",
     "output_type": "stream",
     "text": [
      "Valid: Loss = 3.555, Acc = 0.3476\n",
      "\n"
     ]
    },
    {
     "name": "stderr",
     "output_type": "stream",
     "text": [
      "Epoch 57: 100%|██████████| 73/73 [00:00<00:00, 155.88batch/s, accuracy=94.7, loss=0.269]\n"
     ]
    },
    {
     "name": "stdout",
     "output_type": "stream",
     "text": [
      "Valid: Loss = 1.319, Acc = 0.6147\n",
      "\n"
     ]
    },
    {
     "name": "stderr",
     "output_type": "stream",
     "text": [
      "Epoch 58: 100%|██████████| 73/73 [00:00<00:00, 157.71batch/s, accuracy=94.2, loss=0.275]\n"
     ]
    },
    {
     "name": "stdout",
     "output_type": "stream",
     "text": [
      "Valid: Loss = 2.151, Acc = 0.4932\n",
      "\n"
     ]
    },
    {
     "name": "stderr",
     "output_type": "stream",
     "text": [
      "Epoch 59: 100%|██████████| 73/73 [00:00<00:00, 157.78batch/s, accuracy=94.9, loss=0.261]\n"
     ]
    },
    {
     "name": "stdout",
     "output_type": "stream",
     "text": [
      "Valid: Loss = 1.392, Acc = 0.6336\n",
      "\n"
     ]
    },
    {
     "name": "stderr",
     "output_type": "stream",
     "text": [
      "Epoch 60: 100%|██████████| 73/73 [00:00<00:00, 154.98batch/s, accuracy=94.7, loss=0.261]\n"
     ]
    },
    {
     "name": "stdout",
     "output_type": "stream",
     "text": [
      "Valid: Loss = 1.158, Acc = 0.661\n",
      "\n"
     ]
    },
    {
     "name": "stderr",
     "output_type": "stream",
     "text": [
      "Epoch 61: 100%|██████████| 73/73 [00:00<00:00, 154.99batch/s, accuracy=94.4, loss=0.267]\n"
     ]
    },
    {
     "name": "stdout",
     "output_type": "stream",
     "text": [
      "Valid: Loss = 1.982, Acc = 0.5\n",
      "\n"
     ]
    },
    {
     "name": "stderr",
     "output_type": "stream",
     "text": [
      "Epoch 62: 100%|██████████| 73/73 [00:00<00:00, 156.89batch/s, accuracy=94.7, loss=0.265]\n"
     ]
    },
    {
     "name": "stdout",
     "output_type": "stream",
     "text": [
      "Valid: Loss = 1.842, Acc = 0.5462\n",
      "\n"
     ]
    },
    {
     "name": "stderr",
     "output_type": "stream",
     "text": [
      "Epoch 63: 100%|██████████| 73/73 [00:00<00:00, 154.49batch/s, accuracy=94.8, loss=0.261]\n"
     ]
    },
    {
     "name": "stdout",
     "output_type": "stream",
     "text": [
      "Valid: Loss = 1.203, Acc = 0.6541\n",
      "\n"
     ]
    },
    {
     "name": "stderr",
     "output_type": "stream",
     "text": [
      "Epoch 64: 100%|██████████| 73/73 [00:00<00:00, 158.37batch/s, accuracy=94.5, loss=0.268]\n"
     ]
    },
    {
     "name": "stdout",
     "output_type": "stream",
     "text": [
      "Valid: Loss = 1.392, Acc = 0.5753\n",
      "\n"
     ]
    },
    {
     "name": "stderr",
     "output_type": "stream",
     "text": [
      "Epoch 65: 100%|██████████| 73/73 [00:00<00:00, 157.10batch/s, accuracy=94.8, loss=0.26] \n"
     ]
    },
    {
     "name": "stdout",
     "output_type": "stream",
     "text": [
      "Valid: Loss = 1.755, Acc = 0.5462\n",
      "\n"
     ]
    },
    {
     "name": "stderr",
     "output_type": "stream",
     "text": [
      "Epoch 66: 100%|██████████| 73/73 [00:00<00:00, 130.50batch/s, accuracy=94.3, loss=0.261]\n"
     ]
    },
    {
     "name": "stdout",
     "output_type": "stream",
     "text": [
      "Best Model Saved!\n",
      "Valid: Loss = 1.049, Acc = 0.6832\n",
      "\n"
     ]
    },
    {
     "name": "stderr",
     "output_type": "stream",
     "text": [
      "Epoch 67: 100%|██████████| 73/73 [00:00<00:00, 155.07batch/s, accuracy=94.5, loss=0.261]\n"
     ]
    },
    {
     "name": "stdout",
     "output_type": "stream",
     "text": [
      "Valid: Loss = 1.202, Acc = 0.6387\n",
      "\n"
     ]
    },
    {
     "name": "stderr",
     "output_type": "stream",
     "text": [
      "Epoch 68: 100%|██████████| 73/73 [00:00<00:00, 152.10batch/s, accuracy=95.5, loss=0.239]\n"
     ]
    },
    {
     "name": "stdout",
     "output_type": "stream",
     "text": [
      "Valid: Loss = 1.782, Acc = 0.5651\n",
      "\n"
     ]
    },
    {
     "name": "stderr",
     "output_type": "stream",
     "text": [
      "Epoch 69: 100%|██████████| 73/73 [00:00<00:00, 156.83batch/s, accuracy=95.4, loss=0.241]\n"
     ]
    },
    {
     "name": "stdout",
     "output_type": "stream",
     "text": [
      "Valid: Loss = 1.453, Acc = 0.5908\n",
      "\n"
     ]
    },
    {
     "name": "stderr",
     "output_type": "stream",
     "text": [
      "Epoch 70: 100%|██████████| 73/73 [00:00<00:00, 153.20batch/s, accuracy=95.1, loss=0.248]\n"
     ]
    },
    {
     "name": "stdout",
     "output_type": "stream",
     "text": [
      "Valid: Loss = 1.386, Acc = 0.6164\n",
      "\n"
     ]
    },
    {
     "name": "stderr",
     "output_type": "stream",
     "text": [
      "Epoch 71: 100%|██████████| 73/73 [00:00<00:00, 153.89batch/s, accuracy=95.2, loss=0.243]\n"
     ]
    },
    {
     "name": "stdout",
     "output_type": "stream",
     "text": [
      "Valid: Loss = 1.725, Acc = 0.5462\n",
      "\n"
     ]
    },
    {
     "name": "stderr",
     "output_type": "stream",
     "text": [
      "Epoch 72: 100%|██████████| 73/73 [00:00<00:00, 158.37batch/s, accuracy=94.7, loss=0.252]\n"
     ]
    },
    {
     "name": "stdout",
     "output_type": "stream",
     "text": [
      "Valid: Loss = 1.775, Acc = 0.5651\n",
      "\n"
     ]
    },
    {
     "name": "stderr",
     "output_type": "stream",
     "text": [
      "Epoch 73: 100%|██████████| 73/73 [00:00<00:00, 156.39batch/s, accuracy=95.1, loss=0.244]\n"
     ]
    },
    {
     "name": "stdout",
     "output_type": "stream",
     "text": [
      "Valid: Loss = 1.36, Acc = 0.6301\n",
      "\n"
     ]
    },
    {
     "name": "stderr",
     "output_type": "stream",
     "text": [
      "Epoch 74: 100%|██████████| 73/73 [00:00<00:00, 154.08batch/s, accuracy=95.7, loss=0.234]\n"
     ]
    },
    {
     "name": "stdout",
     "output_type": "stream",
     "text": [
      "Valid: Loss = 2.237, Acc = 0.476\n",
      "\n"
     ]
    },
    {
     "name": "stderr",
     "output_type": "stream",
     "text": [
      "Epoch 75: 100%|██████████| 73/73 [00:00<00:00, 154.45batch/s, accuracy=95.4, loss=0.248]\n"
     ]
    },
    {
     "name": "stdout",
     "output_type": "stream",
     "text": [
      "Valid: Loss = 1.482, Acc = 0.6045\n",
      "\n"
     ]
    },
    {
     "name": "stderr",
     "output_type": "stream",
     "text": [
      "Epoch 76: 100%|██████████| 73/73 [00:00<00:00, 153.85batch/s, accuracy=95.8, loss=0.216]\n"
     ]
    },
    {
     "name": "stdout",
     "output_type": "stream",
     "text": [
      "Valid: Loss = 1.581, Acc = 0.5616\n",
      "\n"
     ]
    },
    {
     "name": "stderr",
     "output_type": "stream",
     "text": [
      "Epoch 77: 100%|██████████| 73/73 [00:00<00:00, 156.64batch/s, accuracy=95.6, loss=0.234]\n"
     ]
    },
    {
     "name": "stdout",
     "output_type": "stream",
     "text": [
      "Valid: Loss = 1.823, Acc = 0.5651\n",
      "\n"
     ]
    },
    {
     "name": "stderr",
     "output_type": "stream",
     "text": [
      "Epoch 78: 100%|██████████| 73/73 [00:00<00:00, 158.32batch/s, accuracy=95.5, loss=0.239]\n"
     ]
    },
    {
     "name": "stdout",
     "output_type": "stream",
     "text": [
      "Valid: Loss = 1.345, Acc = 0.6182\n",
      "\n"
     ]
    },
    {
     "name": "stderr",
     "output_type": "stream",
     "text": [
      "Epoch 79: 100%|██████████| 73/73 [00:00<00:00, 156.14batch/s, accuracy=94.9, loss=0.239]\n"
     ]
    },
    {
     "name": "stdout",
     "output_type": "stream",
     "text": [
      "Valid: Loss = 1.222, Acc = 0.6455\n",
      "\n"
     ]
    },
    {
     "name": "stderr",
     "output_type": "stream",
     "text": [
      "Epoch 80: 100%|██████████| 73/73 [00:00<00:00, 154.88batch/s, accuracy=96.3, loss=0.221]\n"
     ]
    },
    {
     "name": "stdout",
     "output_type": "stream",
     "text": [
      "Valid: Loss = 1.508, Acc = 0.6182\n",
      "\n"
     ]
    },
    {
     "name": "stderr",
     "output_type": "stream",
     "text": [
      "Epoch 81: 100%|██████████| 73/73 [00:00<00:00, 156.17batch/s, accuracy=95.5, loss=0.229]\n"
     ]
    },
    {
     "name": "stdout",
     "output_type": "stream",
     "text": [
      "Valid: Loss = 1.692, Acc = 0.5514\n",
      "\n"
     ]
    },
    {
     "name": "stderr",
     "output_type": "stream",
     "text": [
      "Epoch 82: 100%|██████████| 73/73 [00:00<00:00, 152.03batch/s, accuracy=96, loss=0.225]  \n"
     ]
    },
    {
     "name": "stdout",
     "output_type": "stream",
     "text": [
      "Valid: Loss = 2.242, Acc = 0.4983\n",
      "\n"
     ]
    },
    {
     "name": "stderr",
     "output_type": "stream",
     "text": [
      "Epoch 83: 100%|██████████| 73/73 [00:00<00:00, 155.70batch/s, accuracy=95.1, loss=0.221]\n"
     ]
    },
    {
     "name": "stdout",
     "output_type": "stream",
     "text": [
      "Valid: Loss = 1.44, Acc = 0.613\n",
      "\n"
     ]
    },
    {
     "name": "stderr",
     "output_type": "stream",
     "text": [
      "Epoch 84: 100%|██████████| 73/73 [00:00<00:00, 150.62batch/s, accuracy=95.8, loss=0.221]\n"
     ]
    },
    {
     "name": "stdout",
     "output_type": "stream",
     "text": [
      "Valid: Loss = 1.415, Acc = 0.6096\n",
      "\n"
     ]
    },
    {
     "name": "stderr",
     "output_type": "stream",
     "text": [
      "Epoch 85: 100%|██████████| 73/73 [00:00<00:00, 154.76batch/s, accuracy=95.5, loss=0.227]\n"
     ]
    },
    {
     "name": "stdout",
     "output_type": "stream",
     "text": [
      "Valid: Loss = 2.283, Acc = 0.4812\n",
      "\n"
     ]
    },
    {
     "name": "stderr",
     "output_type": "stream",
     "text": [
      "Epoch 86: 100%|██████████| 73/73 [00:00<00:00, 151.11batch/s, accuracy=95, loss=0.226]  \n"
     ]
    },
    {
     "name": "stdout",
     "output_type": "stream",
     "text": [
      "Valid: Loss = 1.267, Acc = 0.6421\n",
      "\n"
     ]
    },
    {
     "name": "stderr",
     "output_type": "stream",
     "text": [
      "Epoch 87: 100%|██████████| 73/73 [00:00<00:00, 156.29batch/s, accuracy=96.3, loss=0.211]\n"
     ]
    },
    {
     "name": "stdout",
     "output_type": "stream",
     "text": [
      "Valid: Loss = 1.677, Acc = 0.5428\n",
      "\n"
     ]
    },
    {
     "name": "stderr",
     "output_type": "stream",
     "text": [
      "Epoch 88: 100%|██████████| 73/73 [00:00<00:00, 155.01batch/s, accuracy=95.7, loss=0.219]\n"
     ]
    },
    {
     "name": "stdout",
     "output_type": "stream",
     "text": [
      "Valid: Loss = 1.594, Acc = 0.5668\n",
      "\n"
     ]
    },
    {
     "name": "stderr",
     "output_type": "stream",
     "text": [
      "Epoch 89: 100%|██████████| 73/73 [00:00<00:00, 153.53batch/s, accuracy=95.4, loss=0.223]\n"
     ]
    },
    {
     "name": "stdout",
     "output_type": "stream",
     "text": [
      "Valid: Loss = 1.349, Acc = 0.6267\n",
      "\n"
     ]
    },
    {
     "name": "stderr",
     "output_type": "stream",
     "text": [
      "Epoch 90: 100%|██████████| 73/73 [00:00<00:00, 153.45batch/s, accuracy=96.2, loss=0.213]\n"
     ]
    },
    {
     "name": "stdout",
     "output_type": "stream",
     "text": [
      "Valid: Loss = 1.356, Acc = 0.6113\n",
      "\n"
     ]
    },
    {
     "name": "stderr",
     "output_type": "stream",
     "text": [
      "Epoch 91: 100%|██████████| 73/73 [00:00<00:00, 151.19batch/s, accuracy=95.9, loss=0.21] \n"
     ]
    },
    {
     "name": "stdout",
     "output_type": "stream",
     "text": [
      "Valid: Loss = 1.728, Acc = 0.5634\n",
      "\n"
     ]
    },
    {
     "name": "stderr",
     "output_type": "stream",
     "text": [
      "Epoch 92: 100%|██████████| 73/73 [00:00<00:00, 154.59batch/s, accuracy=95.1, loss=0.226]\n"
     ]
    },
    {
     "name": "stdout",
     "output_type": "stream",
     "text": [
      "Valid: Loss = 2.532, Acc = 0.4366\n",
      "\n"
     ]
    },
    {
     "name": "stderr",
     "output_type": "stream",
     "text": [
      "Epoch 93: 100%|██████████| 73/73 [00:00<00:00, 147.96batch/s, accuracy=96.2, loss=0.211]\n"
     ]
    },
    {
     "name": "stdout",
     "output_type": "stream",
     "text": [
      "Valid: Loss = 2.521, Acc = 0.4435\n",
      "\n"
     ]
    },
    {
     "name": "stderr",
     "output_type": "stream",
     "text": [
      "Epoch 94: 100%|██████████| 73/73 [00:00<00:00, 150.69batch/s, accuracy=96.2, loss=0.207]\n"
     ]
    },
    {
     "name": "stdout",
     "output_type": "stream",
     "text": [
      "Valid: Loss = 2.886, Acc = 0.4349\n",
      "\n"
     ]
    },
    {
     "name": "stderr",
     "output_type": "stream",
     "text": [
      "Epoch 95: 100%|██████████| 73/73 [00:00<00:00, 150.68batch/s, accuracy=96.6, loss=0.203]\n"
     ]
    },
    {
     "name": "stdout",
     "output_type": "stream",
     "text": [
      "Valid: Loss = 1.347, Acc = 0.6113\n",
      "\n"
     ]
    },
    {
     "name": "stderr",
     "output_type": "stream",
     "text": [
      "Epoch 96: 100%|██████████| 73/73 [00:00<00:00, 158.27batch/s, accuracy=96.4, loss=0.203]\n"
     ]
    },
    {
     "name": "stdout",
     "output_type": "stream",
     "text": [
      "Valid: Loss = 1.131, Acc = 0.6729\n",
      "\n"
     ]
    },
    {
     "name": "stderr",
     "output_type": "stream",
     "text": [
      "Epoch 97: 100%|██████████| 73/73 [00:00<00:00, 155.33batch/s, accuracy=95.6, loss=0.209]\n"
     ]
    },
    {
     "name": "stdout",
     "output_type": "stream",
     "text": [
      "Valid: Loss = 1.427, Acc = 0.5993\n",
      "\n"
     ]
    },
    {
     "name": "stderr",
     "output_type": "stream",
     "text": [
      "Epoch 98: 100%|██████████| 73/73 [00:00<00:00, 154.44batch/s, accuracy=96.8, loss=0.196]\n"
     ]
    },
    {
     "name": "stdout",
     "output_type": "stream",
     "text": [
      "Valid: Loss = 2.186, Acc = 0.5205\n",
      "\n"
     ]
    },
    {
     "name": "stderr",
     "output_type": "stream",
     "text": [
      "Epoch 99: 100%|██████████| 73/73 [00:00<00:00, 151.96batch/s, accuracy=96.4, loss=0.201]\n"
     ]
    },
    {
     "name": "stdout",
     "output_type": "stream",
     "text": [
      "Valid: Loss = 1.464, Acc = 0.589\n",
      "\n"
     ]
    }
   ],
   "source": [
    "num_epochs = 100\n",
    "\n",
    "for epoch in range(num_epochs):\n",
    "  # Train\n",
    "  model, loss_train, acc_train = train_one_epoch(model, \n",
    "                                                 train_loader, \n",
    "                                                 criterion, \n",
    "                                                 optimizer,\n",
    "                                                 epoch)\n",
    "  # Validation\n",
    "  loss_valid, acc_valid = validation(model,\n",
    "                                     val_loader,\n",
    "                                     criterion)\n",
    "  \n",
    "  loss_train_hist.append(loss_train)\n",
    "  loss_valid_hist.append(loss_valid)\n",
    "\n",
    "  acc_train_hist.append(acc_train)\n",
    "  acc_valid_hist.append(acc_valid)\n",
    "  \n",
    "  if loss_valid < best_loss_valid:\n",
    "    torch.save(model, f'model.pt')\n",
    "    best_loss_valid = loss_valid\n",
    "    print('Best Model Saved!')\n",
    "\n",
    "  print(f'Valid: Loss = {loss_valid:.4}, Acc = {acc_valid:.4}')\n",
    "  print()\n",
    "\n",
    "  epoch_counter += 1"
   ]
  },
  {
   "cell_type": "code",
   "execution_count": 18,
   "metadata": {},
   "outputs": [
    {
     "data": {
      "text/plain": [
       "<matplotlib.legend.Legend at 0x1c0fded96c0>"
      ]
     },
     "execution_count": 18,
     "metadata": {},
     "output_type": "execute_result"
    },
    {
     "data": {
      "image/png": "[encoded data removed]",
      "text/plain": [
       "<Figure size 640x480 with 1 Axes>"
      ]
     },
     "metadata": {},
     "output_type": "display_data"
    }
   ],
   "source": [
    "plt.plot(range(epoch_counter), loss_train_hist, 'r-', label='Train')\n",
    "plt.plot(range(epoch_counter), loss_valid_hist, 'b-', label='Validation')\n",
    "\n",
    "plt.xlabel('Epoch')\n",
    "plt.ylabel('loss')\n",
    "plt.grid(True)\n",
    "plt.legend()"
   ]
  },
  {
   "cell_type": "code",
   "execution_count": 19,
   "metadata": {},
   "outputs": [
    {
     "data": {
      "text/plain": [
       "<matplotlib.legend.Legend at 0x1c0f8a86b00>"
      ]
     },
     "execution_count": 19,
     "metadata": {},
     "output_type": "execute_result"
    },
    {
     "data": {
      "image/png": "[encoded data removed]",
      "text/plain": [
       "<Figure size 640x480 with 1 Axes>"
      ]
     },
     "metadata": {},
     "output_type": "display_data"
    }
   ],
   "source": [
    "plt.plot(range(epoch_counter), acc_train_hist, 'r-', label='Train')\n",
    "plt.plot(range(epoch_counter), acc_valid_hist, 'b-', label='Validation')\n",
    "\n",
    "plt.xlabel('Epoch')\n",
    "plt.ylabel('Accuracy')\n",
    "plt.grid(True)\n",
    "plt.legend()"
   ]
  },
  {
   "cell_type": "code",
   "execution_count": 8,
   "metadata": {},
   "outputs": [
    {
     "name": "stdout",
     "output_type": "stream",
     "text": [
      "Train Accuracy: 92.15%\n",
      "Validation Accuracy: 66.78%\n",
      "Train Accuracy: 79.63%\n",
      "Validation Accuracy: 57.53%\n",
      "Train Accuracy: 90.78%\n",
      "Validation Accuracy: 65.41%\n",
      "Train Accuracy: 90.31%\n",
      "Validation Accuracy: 65.24%\n",
      "Train Accuracy: 92.62%\n",
      "Validation Accuracy: 67.81%\n",
      "Train Accuracy: 94.68%\n",
      "Validation Accuracy: 69.69%\n",
      "Train Accuracy: 82.72%\n",
      "Validation Accuracy: 56.68%\n",
      "Train Accuracy: 82.12%\n",
      "Validation Accuracy: 59.42%\n",
      "Train Accuracy: 93.01%\n",
      "Validation Accuracy: 70.55%\n",
      "Train Accuracy: 90.31%\n",
      "Validation Accuracy: 67.12%\n",
      "Train Accuracy: 82.80%\n",
      "Validation Accuracy: 61.82%\n",
      "Train Accuracy: 68.01%\n",
      "Validation Accuracy: 46.40%\n",
      "Train Accuracy: 89.19%\n",
      "Validation Accuracy: 62.67%\n",
      "Train Accuracy: 87.39%\n",
      "Validation Accuracy: 62.67%\n",
      "Train Accuracy: 87.91%\n",
      "Validation Accuracy: 61.82%\n",
      "Train Accuracy: 90.14%\n",
      "Validation Accuracy: 64.04%\n",
      "Train Accuracy: 89.62%\n",
      "Validation Accuracy: 62.84%\n",
      "Train Accuracy: 85.25%\n",
      "Validation Accuracy: 63.36%\n",
      "Train Accuracy: 90.69%\n",
      "Validation Accuracy: 65.24%\n",
      "Train Accuracy: 90.74%\n",
      "Validation Accuracy: 66.27%\n",
      "Train Accuracy: 84.86%\n",
      "Validation Accuracy: 57.36%\n",
      "Train Accuracy: 91.85%\n",
      "Validation Accuracy: 65.41%\n",
      "Train Accuracy: 93.95%\n",
      "Validation Accuracy: 65.92%\n",
      "Train Accuracy: 83.32%\n",
      "Validation Accuracy: 60.79%\n",
      "Train Accuracy: 93.83%\n",
      "Validation Accuracy: 67.47%\n",
      "Train Accuracy: 87.65%\n",
      "Validation Accuracy: 58.90%\n",
      "Train Accuracy: 89.49%\n",
      "Validation Accuracy: 65.58%\n",
      "Train Accuracy: 90.48%\n",
      "Validation Accuracy: 66.78%\n",
      "Train Accuracy: 94.51%\n",
      "Validation Accuracy: 66.10%\n",
      "Train Accuracy: 90.14%\n",
      "Validation Accuracy: 62.50%\n",
      "Train Accuracy: 88.89%\n",
      "Validation Accuracy: 62.50%\n",
      "Train Accuracy: 97.43%\n",
      "Validation Accuracy: 70.72%\n",
      "Train Accuracy: 94.90%\n",
      "Validation Accuracy: 66.95%\n",
      "Train Accuracy: 92.07%\n",
      "Validation Accuracy: 65.07%\n",
      "Train Accuracy: 95.33%\n",
      "Validation Accuracy: 70.55%\n",
      "Train Accuracy: 94.77%\n",
      "Validation Accuracy: 70.03%\n",
      "Train Accuracy: 93.83%\n",
      "Validation Accuracy: 67.81%\n",
      "Train Accuracy: 93.78%\n",
      "Validation Accuracy: 69.52%\n",
      "Train Accuracy: 85.89%\n",
      "Validation Accuracy: 59.25%\n",
      "Train Accuracy: 86.15%\n",
      "Validation Accuracy: 58.22%\n",
      "Train Accuracy: 94.08%\n",
      "Validation Accuracy: 65.58%\n",
      "Train Accuracy: 84.43%\n",
      "Validation Accuracy: 59.08%\n",
      "Train Accuracy: 97.13%\n",
      "Validation Accuracy: 71.06%\n",
      "Train Accuracy: 94.98%\n",
      "Validation Accuracy: 67.98%\n",
      "Train Accuracy: 89.28%\n",
      "Validation Accuracy: 65.07%\n",
      "Train Accuracy: 90.61%\n",
      "Validation Accuracy: 61.99%\n",
      "Train Accuracy: 94.60%\n",
      "Validation Accuracy: 68.84%\n",
      "Train Accuracy: 80.27%\n",
      "Validation Accuracy: 52.57%\n",
      "Train Accuracy: 88.42%\n",
      "Validation Accuracy: 59.42%\n",
      "Train Accuracy: 89.11%\n",
      "Validation Accuracy: 61.64%\n",
      "Train Accuracy: 96.44%\n",
      "Validation Accuracy: 69.69%\n",
      "Train Accuracy: 92.28%\n",
      "Validation Accuracy: 66.44%\n",
      "Train Accuracy: 83.58%\n",
      "Validation Accuracy: 57.02%\n",
      "Train Accuracy: 97.21%\n",
      "Validation Accuracy: 70.03%\n",
      "Train Accuracy: 94.51%\n",
      "Validation Accuracy: 69.35%\n",
      "Train Accuracy: 86.23%\n",
      "Validation Accuracy: 59.76%\n",
      "Train Accuracy: 77.06%\n",
      "Validation Accuracy: 53.42%\n",
      "Train Accuracy: 91.60%\n",
      "Validation Accuracy: 62.50%\n",
      "Train Accuracy: 88.64%\n",
      "Validation Accuracy: 59.93%\n",
      "Train Accuracy: 92.32%\n",
      "Validation Accuracy: 67.47%\n",
      "Train Accuracy: 91.42%\n",
      "Validation Accuracy: 69.35%\n",
      "Train Accuracy: 92.92%\n",
      "Validation Accuracy: 62.67%\n",
      "Train Accuracy: 96.70%\n",
      "Validation Accuracy: 71.06%\n",
      "Train Accuracy: 85.03%\n",
      "Validation Accuracy: 57.02%\n",
      "Train Accuracy: 97.81%\n",
      "Validation Accuracy: 69.52%\n",
      "Train Accuracy: 92.62%\n",
      "Validation Accuracy: 63.87%\n",
      "Train Accuracy: 94.73%\n",
      "Validation Accuracy: 69.35%\n",
      "Train Accuracy: 96.01%\n",
      "Validation Accuracy: 69.35%\n",
      "Train Accuracy: 82.98%\n",
      "Validation Accuracy: 58.56%\n",
      "Train Accuracy: 94.17%\n",
      "Validation Accuracy: 64.04%\n",
      "Train Accuracy: 94.98%\n",
      "Validation Accuracy: 69.69%\n",
      "Train Accuracy: 90.18%\n",
      "Validation Accuracy: 63.70%\n",
      "Train Accuracy: 94.90%\n",
      "Validation Accuracy: 68.66%\n",
      "Train Accuracy: 98.03%\n",
      "Validation Accuracy: 69.52%\n",
      "Train Accuracy: 92.11%\n",
      "Validation Accuracy: 65.24%\n",
      "Train Accuracy: 87.99%\n",
      "Validation Accuracy: 58.05%\n",
      "Train Accuracy: 97.47%\n",
      "Validation Accuracy: 70.89%\n",
      "Train Accuracy: 91.98%\n",
      "Validation Accuracy: 64.21%\n",
      "Train Accuracy: 93.83%\n",
      "Validation Accuracy: 67.47%\n",
      "Train Accuracy: 84.26%\n",
      "Validation Accuracy: 58.39%\n",
      "Train Accuracy: 97.13%\n",
      "Validation Accuracy: 69.01%\n",
      "Train Accuracy: 97.64%\n",
      "Validation Accuracy: 68.66%\n",
      "Train Accuracy: 89.75%\n",
      "Validation Accuracy: 64.55%\n",
      "Train Accuracy: 96.31%\n",
      "Validation Accuracy: 69.52%\n",
      "Train Accuracy: 86.88%\n",
      "Validation Accuracy: 60.45%\n",
      "Train Accuracy: 95.80%\n",
      "Validation Accuracy: 68.66%\n",
      "Train Accuracy: 93.87%\n",
      "Validation Accuracy: 68.15%\n",
      "Train Accuracy: 90.48%\n",
      "Validation Accuracy: 60.45%\n",
      "Train Accuracy: 96.05%\n",
      "Validation Accuracy: 65.92%\n",
      "Train Accuracy: 96.44%\n",
      "Validation Accuracy: 67.29%\n",
      "Train Accuracy: 93.87%\n",
      "Validation Accuracy: 67.64%\n",
      "Train Accuracy: 86.66%\n",
      "Validation Accuracy: 60.96%\n",
      "Train Accuracy: 95.24%\n",
      "Validation Accuracy: 64.38%\n",
      "Train Accuracy: 91.30%\n",
      "Validation Accuracy: 65.24%\n",
      "Train Accuracy: 98.71%\n",
      "Validation Accuracy: 71.06%\n",
      "Train Accuracy: 81.00%\n",
      "Validation Accuracy: 53.08%\n",
      "Train Accuracy: 85.42%\n",
      "Validation Accuracy: 58.73%\n",
      "Train Accuracy: 95.80%\n",
      "Validation Accuracy: 65.41%\n",
      "Train Accuracy: 97.51%\n",
      "Validation Accuracy: 68.15%\n",
      "Train Accuracy: 98.07%\n",
      "Validation Accuracy: 70.89%\n"
     ]
    }
   ],
   "source": [
    "\n",
    "# Training\n",
    "for epoch in range(100):\n",
    "    model.train()\n",
    "    total_loss = 0\n",
    "    for batch_X, batch_y in train_loader:\n",
    "        batch_X, batch_y = batch_X.to(device), batch_y.to(device)\n",
    "        outputs = model(batch_X)\n",
    "        loss = criterion(outputs, batch_y)\n",
    "\n",
    "        optimizer.zero_grad()\n",
    "        loss.backward()\n",
    "        optimizer.step()\n",
    "\n",
    "        total_loss += loss.item()\n",
    "    # print(f\"Epoch {epoch+1}, Loss: {total_loss/len(train_loader):.4f}\")\n",
    "\n",
    "    # Validation\n",
    "    model.eval()\n",
    "    correct = total = 0\n",
    "    with torch.no_grad():\n",
    "        for batch_X, batch_y in train_loader:\n",
    "            batch_X, batch_y = batch_X.to(device), batch_y.to(device)\n",
    "            outputs = model(batch_X)\n",
    "            _, predicted = torch.max(outputs.data, 1)\n",
    "            total += batch_y.size(0)\n",
    "            correct += (predicted == batch_y).sum().item()\n",
    "\n",
    "    print(f\"Train Accuracy: {100 * correct / total:.2f}%\")\n",
    "\n",
    "    # Validation\n",
    "    model.eval()\n",
    "    correct = total = 0\n",
    "    with torch.no_grad():\n",
    "        for batch_X, batch_y in val_loader:\n",
    "            batch_X, batch_y = batch_X.to(device), batch_y.to(device)\n",
    "            outputs = model(batch_X)\n",
    "            _, predicted = torch.max(outputs.data, 1)\n",
    "            total += batch_y.size(0)\n",
    "            correct += (predicted == batch_y).sum().item()\n",
    "\n",
    "    print(f\"Validation Accuracy: {100 * correct / total:.2f}%\")"
   ]
  },
  {
   "cell_type": "code",
   "execution_count": null,
   "metadata": {},
   "outputs": [],
   "source": []
  }
 ],
 "metadata": {
  "kernelspec": {
   "display_name": "gpu-pytorch",
   "language": "python",
   "name": "python3"
  },
  "language_info": {
   "codemirror_mode": {
    "name": "ipython",
    "version": 3
   },
   "file_extension": ".py",
   "mimetype": "text/x-python",
   "name": "python",
   "nbconvert_exporter": "python",
   "pygments_lexer": "ipython3",
   "version": "3.10.16"
  }
 },
 "nbformat": 4,
 "nbformat_minor": 2
}
